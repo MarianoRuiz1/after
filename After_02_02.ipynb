{
  "nbformat": 4,
  "nbformat_minor": 0,
  "metadata": {
    "colab": {
      "provenance": []
    },
    "kernelspec": {
      "name": "python3",
      "display_name": "Python 3"
    },
    "language_info": {
      "name": "python"
    }
  },
  "cells": [
    {
      "cell_type": "markdown",
      "source": [
        "### Enteros y decimales"
      ],
      "metadata": {
        "id": "a3XVlQ4Gm5tm"
      }
    },
    {
      "cell_type": "code",
      "source": [
        "i = 12\n",
        "print(i)         \n",
        "print(type(i)) "
      ],
      "metadata": {
        "id": "lJHpo3Obm8_O"
      },
      "execution_count": null,
      "outputs": []
    },
    {
      "cell_type": "code",
      "source": [
        "i = 12.0\n",
        "print(i)         \n",
        "print(type(i)) "
      ],
      "metadata": {
        "id": "1eBBEVCZnB4u"
      },
      "execution_count": null,
      "outputs": []
    },
    {
      "cell_type": "markdown",
      "source": [
        "Python distingue entre números enteros y decimales. Al escribir un número decimal, el separador entre la parte entera y la parte decimal es un punto."
      ],
      "metadata": {
        "id": "iTk7-1PrnOoX"
      }
    },
    {
      "cell_type": "markdown",
      "source": [
        "### Números complejos\n",
        "\n",
        "Python puede hacer cálculos con número complejos. La parte imaginaria se acompaña de la letra \"j\"."
      ],
      "metadata": {
        "id": "Fo28bOyqnU6f"
      }
    },
    {
      "cell_type": "code",
      "source": [
        "print(1 + 1j + 2 + 3j)\n",
        "print((1+1j) * 1j)"
      ],
      "metadata": {
        "id": "xBV-ZQ3rnrgn"
      },
      "execution_count": null,
      "outputs": []
    },
    {
      "cell_type": "markdown",
      "source": [
        "### Las cuatro operaciones básicas\n",
        "\n",
        "Las cuatro operaciones aritméticas básicas son la suma (+), la resta (-), la multiplicación (*) y la división (/)."
      ],
      "metadata": {
        "id": "zAseiYn2oGeI"
      }
    },
    {
      "cell_type": "code",
      "source": [
        "#Al hacer operaciones en las que intervienen números enteros y decimales, el resultado es siempre decimal.\n",
        "\n",
        "print(4.5 * 3)\n",
        "print(4.5 * 2)"
      ],
      "metadata": {
        "id": "ZAZYF10loxBh"
      },
      "execution_count": null,
      "outputs": []
    },
    {
      "cell_type": "code",
      "source": [
        "#Al sumar, restar o multiplicar números enteros, el resultado es entero\n",
        "\n",
        "print(1 + 2)\n",
        "print(3 - 4)\n",
        "print(5 * 6)"
      ],
      "metadata": {
        "id": "00ZdHbKFpBcy"
      },
      "execution_count": null,
      "outputs": []
    },
    {
      "cell_type": "code",
      "source": [
        "#Al dividir números enteros, el resultado es siempre decimal, aunque sea un número entero. Cuando Python escribe un número decimal, lo escribe siempre con parte decimal, aunque sea nula.\n",
        "\n",
        "print(9 / 2)\n",
        "print(9 / 3)"
      ],
      "metadata": {
        "id": "1yKtoyJ_pTyi"
      },
      "execution_count": null,
      "outputs": []
    },
    {
      "cell_type": "code",
      "source": [
        "# Dividir por cero\n",
        "\n",
        "print(5 / 0)"
      ],
      "metadata": {
        "id": "a1W8PGYGp9KD"
      },
      "execution_count": null,
      "outputs": []
    },
    {
      "cell_type": "markdown",
      "source": [
        "### Operaciones combinadas"
      ],
      "metadata": {
        "id": "2MauA-0dqYfL"
      }
    },
    {
      "cell_type": "code",
      "source": [
        "print(1 + 2 * 3)"
      ],
      "metadata": {
        "id": "xBjVFUpUqki0"
      },
      "execution_count": null,
      "outputs": []
    },
    {
      "cell_type": "code",
      "source": [
        "print((5 + 8) / (7 - 2))"
      ],
      "metadata": {
        "id": "YfIUdiCDqpXj"
      },
      "execution_count": null,
      "outputs": []
    },
    {
      "cell_type": "markdown",
      "source": [
        "### Variables en Python\n",
        "\n",
        "En algunos lenguajes de programación, las variables se pueden entender como \"cajas\" en las que se guardan los datos, pero en Python las variables son \"etiquetas\" que permiten hacer referencia a los datos (que se guardan en unas \"cajas\" llamadas objetos).\n",
        "\n",
        "Python es un lenguaje de programación orientado a objetos y su modelo de datos también está basado en objetos.\n",
        "\n",
        "Para cada dato que aparece en un programa, Python crea un objeto que lo contiene. Cada objeto tiene:\n",
        "\n",
        "*\tUn identificador único (un número entero, distinto para cada objeto). El identificador permite a Python referirse al objeto sin ambigüedades.\n",
        "* Un tipo de datos (entero, decimal, cadena de caracteres, etc.). El tipo de datos permite saber a Python qué operaciones pueden hacerse con el dato.\n",
        "* n valor (el propio dato)."
      ],
      "metadata": {
        "id": "UiBYsM1-xDM1"
      }
    },
    {
      "cell_type": "code",
      "source": [
        "a = 2\n",
        "print(a)"
      ],
      "metadata": {
        "id": "0tBsmCNiCkXe"
      },
      "execution_count": null,
      "outputs": []
    },
    {
      "cell_type": "markdown",
      "source": [
        "### Strings\n",
        "\n",
        "Las variables que almacenan texto se denominan strings (str). Tienen que estar entre comillas sencillas(') o dobles (\"), o si el texto ocupa varias líneas, entre triples comillas dobles (\"\"\") ."
      ],
      "metadata": {
        "id": "M1j33tINEJ4-"
      }
    },
    {
      "cell_type": "code",
      "source": [
        "texto=\"Esto es un texto\"\n",
        "texto2='Esto es otro texto'\n",
        "print(texto)\n",
        "print(texto2)\n",
        "texto3=\"\"\"Hola\n",
        "Pepito\"\"\"\n",
        "print(texto3)"
      ],
      "metadata": {
        "id": "OdUCPU29ERVu"
      },
      "execution_count": null,
      "outputs": []
    },
    {
      "cell_type": "markdown",
      "source": [
        "###Listas\n",
        "\n",
        "Son un tipo contenedor, compuesto, que se usan para almacenar conjuntos de elementos relacionados del mismo tipo o de tipos distintos."
      ],
      "metadata": {
        "id": "Wq2SWc4EJz2e"
      }
    },
    {
      "cell_type": "code",
      "source": [
        "numeros = [1, 2, 3, 4, 5, 6, 7, 8, 9, 10]\n",
        "elementos = [3, 'a', 8, 7.2, 'hola']\n",
        "lista = [1, ['a', 'e', 'i', 'o', 'u'], 8.9, 'hola']\n",
        "print(numeros)\n",
        "print(elementos)\n",
        "print(lista)"
      ],
      "metadata": {
        "id": "nuGQORpfjFvL"
      },
      "execution_count": null,
      "outputs": []
    },
    {
      "cell_type": "markdown",
      "source": [
        "# Slicing"
      ],
      "metadata": {
        "id": "jMcxiWpSkLPx"
      }
    },
    {
      "cell_type": "code",
      "source": [
        "lista = ['a', 'b', 'd', 'i', 'j']\n",
        "\n",
        "print(lista[0])\n",
        "print(lista[0:3])\n",
        "print(lista[:4])\n",
        "print(lista[-1])"
      ],
      "metadata": {
        "id": "CMa9SVpTkdJK"
      },
      "execution_count": null,
      "outputs": []
    },
    {
      "cell_type": "markdown",
      "source": [
        "# Append\n",
        "\n",
        "Nos permite agregar un nuevo ítem al final \n",
        "de una lista.\n"
      ],
      "metadata": {
        "id": "0yOhqxJLmB61"
      }
    },
    {
      "cell_type": "code",
      "source": [
        "numeros = [1, 2, 3, 4, 5, 6, 7, 8, 9, 10]\n",
        "numeros.append(11)\n",
        "\n",
        "print(numeros)"
      ],
      "metadata": {
        "id": "Qa2GQk_emDnd"
      },
      "execution_count": null,
      "outputs": []
    },
    {
      "cell_type": "markdown",
      "source": [
        "# Len\n",
        "\n",
        "Sirve para poder saber la longitud de una lista."
      ],
      "metadata": {
        "id": "ofjUedavnByG"
      }
    },
    {
      "cell_type": "code",
      "source": [
        "numeros = [1, 2, 3, 4, 5, 6, 7, 8, 9, 10]\n",
        "\n",
        "print(len(numeros))"
      ],
      "metadata": {
        "id": "HH-SIpusnWgO"
      },
      "execution_count": null,
      "outputs": []
    },
    {
      "cell_type": "markdown",
      "source": [
        "# Pop\n",
        "\n",
        "Sirve para eliminar el último ítem de una lista, sin modificar el resto de la lista. "
      ],
      "metadata": {
        "id": "rO-k8D2kndXG"
      }
    },
    {
      "cell_type": "code",
      "source": [
        "numeros = [1, 2, 3, 4, 5, 6, 7, 8, 9, 10]\n",
        "numeros.pop()\n",
        "\n",
        "print(numeros)"
      ],
      "metadata": {
        "id": "ksDWmgR1ocVA"
      },
      "execution_count": null,
      "outputs": []
    },
    {
      "cell_type": "markdown",
      "source": [
        "# Count\n",
        "\n",
        "Sirve para contar el número de veces que nuestro ítem se repite en una lista.\n"
      ],
      "metadata": {
        "id": "x31W3_QFosNg"
      }
    },
    {
      "cell_type": "code",
      "source": [
        "numeros =  [1,2,1,3,1,4,1]\n",
        "print(numeros.count(1))"
      ],
      "metadata": {
        "id": "VU9AIEL_oyaI"
      },
      "execution_count": null,
      "outputs": []
    },
    {
      "cell_type": "markdown",
      "source": [
        "# Index\n",
        "\n",
        "Sirve para buscar nuestro ítem y nos dice en qué índice se encuentra."
      ],
      "metadata": {
        "id": "oxrsLMKno_gg"
      }
    },
    {
      "cell_type": "code",
      "source": [
        "numeros =  [1,2,1,3,1,4,1]\n",
        "print(numeros.index(4))"
      ],
      "metadata": {
        "id": "2XpFwAzBpRFh"
      },
      "execution_count": null,
      "outputs": []
    },
    {
      "cell_type": "markdown",
      "source": [
        "# Tuplas\n",
        "\n",
        "Las tuplas en Python son un tipo o estructura de datos que permite almacenar datos de una manera muy parecida a las listas, con la salvedad de que son inmutables."
      ],
      "metadata": {
        "id": "3I6Gha6EqlgT"
      }
    },
    {
      "cell_type": "code",
      "source": [
        "tupla = (1, 2, 3)\n",
        "print(type(tupla)) \n",
        "print(tupla)       "
      ],
      "metadata": {
        "id": "5kIhV5rEqo_S"
      },
      "execution_count": null,
      "outputs": []
    },
    {
      "cell_type": "markdown",
      "source": [
        "# Len - Count - Index"
      ],
      "metadata": {
        "id": "ue7LEWqQrPuj"
      }
    },
    {
      "cell_type": "code",
      "source": [
        "tupla = [1,2,1,3,1,4,1]\n",
        "\n",
        "print(len(tupla))\n",
        "print(tupla.count(1))\n",
        "print(tupla.index(4))"
      ],
      "metadata": {
        "id": "AA8NqFBorYE0"
      },
      "execution_count": null,
      "outputs": []
    },
    {
      "cell_type": "markdown",
      "source": [
        "# Operadores lógicos\n",
        "\n",
        "Permiten trabajar con valores de tipo booleano. Un valor booleano o bool es un tipo que solo puede tomar valores True o False.\n",
        "\n",
        "![image.png](data:image/png;base64,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)"
      ],
      "metadata": {
        "id": "aZkUOhPuB6Dr"
      }
    },
    {
      "cell_type": "code",
      "source": [
        "print(True and True)  \n",
        "print(True and False)  \n",
        "print(False and True)  \n",
        "print(False and False) "
      ],
      "metadata": {
        "id": "GUiA-6vPCoGF"
      },
      "execution_count": null,
      "outputs": []
    },
    {
      "cell_type": "code",
      "source": [
        "print(True or True)   \n",
        "print(True or False)  \n",
        "print(False or True)  \n",
        "print(False or False) "
      ],
      "metadata": {
        "id": "lisijZzYC3fk"
      },
      "execution_count": null,
      "outputs": []
    },
    {
      "cell_type": "markdown",
      "source": [
        "# not\n",
        "\n",
        "Simplemente invierte True por False y False por True. "
      ],
      "metadata": {
        "id": "GmXd1F2cDI8U"
      }
    },
    {
      "cell_type": "code",
      "source": [
        "print(not True) \n",
        "print(not False)"
      ],
      "metadata": {
        "id": "SylevDe0DNZs"
      },
      "execution_count": null,
      "outputs": []
    },
    {
      "cell_type": "markdown",
      "source": [
        "# Condicional\n",
        "\n",
        "A partir de la palabra reservada if (si), le indicamos a Python que queremos ejecutar una porción de código solo si se cumple una determinada condición (es decir, si el resultado es True)\n",
        "Para ejecutar un bloque de código en caso que no se cumpla la condición, empleamos la palabra reservada else (si no).\n",
        "Por último, podemos especificar otras condiciones en caso que la primera no se cumpla vía elif.\n",
        "Por último, podemos especificar otras condiciones en caso que la primera no se cumpla vía elif (si no, si)."
      ],
      "metadata": {
        "id": "Pco9uA4-DSls"
      }
    },
    {
      "cell_type": "code",
      "source": [
        "edad = int(input(\"Escribe tu edad: \"))\n",
        "\n",
        "if edad >= 18 and edad < 65:\n",
        "    print(\"Eres un adulto.\")\n",
        "elif edad >= 65:\n",
        "    print(\"Eres un adulto mayor.\")\n",
        "else:\n",
        "    print(\"Aún no eres un adulto.\")"
      ],
      "metadata": {
        "id": "uZ9NSYNiEjFu"
      },
      "execution_count": null,
      "outputs": []
    },
    {
      "cell_type": "markdown",
      "source": [
        "# Sentencias iterativas\n",
        "\n",
        "La iteración es la repetición de un segmento de código dentro de un programa de computadora. "
      ],
      "metadata": {
        "id": "uBDrR9Y3Hnfb"
      }
    },
    {
      "cell_type": "markdown",
      "source": [
        "## While \n",
        "\n",
        "El bucle while evalúa una condición y luego ejecuta un bloque de código si la condición es verdadera."
      ],
      "metadata": {
        "id": "0JNh3nlQHzpK"
      }
    },
    {
      "cell_type": "code",
      "source": [
        "dia = 0    \n",
        "semana = ['Lunes', 'Martes', 'Miércoles', 'Jueves', 'Viernes', 'Sabado', 'Domingo']\n",
        "while dia < 7:\n",
        "   print(\"Hoy es \" + semana[dia])\n",
        "   dia += 1"
      ],
      "metadata": {
        "colab": {
          "base_uri": "https://localhost:8080/"
        },
        "id": "-SkcUGgxIC0L",
        "outputId": "36ad794e-af29-4e62-a10c-bf532b283efb"
      },
      "execution_count": 1,
      "outputs": [
        {
          "output_type": "stream",
          "name": "stdout",
          "text": [
            "Hoy es Lunes\n",
            "Hoy es Martes\n",
            "Hoy es Miércoles\n",
            "Hoy es Jueves\n",
            "Hoy es Viernes\n",
            "Hoy es Sabado\n",
            "Hoy es Domingo\n"
          ]
        }
      ]
    },
    {
      "cell_type": "markdown",
      "source": [
        "## Break\n",
        "\n",
        "Python conoce la sentencia break para los bucles while. Si se ejecuta una sentencia break dentro de un bucle, este finaliza inmediatamente. "
      ],
      "metadata": {
        "id": "oqJQOSe1IeJD"
      }
    },
    {
      "cell_type": "code",
      "source": [
        "cond = True\n",
        "# cond = False\n",
        "\n",
        "while True:\n",
        "    print(\"Ejecutando\")\n",
        "    if cond:\n",
        "        break\n",
        "    else:\n",
        "        print(\"No deberia verse esto\")\n",
        "        cond = True\n",
        "print(\"Hecho\")"
      ],
      "metadata": {
        "id": "PUCsEhDhJj2f"
      },
      "execution_count": null,
      "outputs": []
    },
    {
      "cell_type": "markdown",
      "source": [
        "## for\n",
        "\n",
        "El bucle for se utiliza para recorrer los elementos de un objeto iterable (lista, tupla, conjunto, diccionario) y ejecutar un bloque de código. En cada paso de la iteración se tiene en cuenta a un único elemento del objeto iterable, sobre el cuál se pueden aplicar una serie de operaciones."
      ],
      "metadata": {
        "id": "fWoGVd3MLgzI"
      }
    },
    {
      "cell_type": "code",
      "source": [
        "numeros = [4, 78, 9, 84]\n",
        "for n in numeros:\n",
        "    print(n)"
      ],
      "metadata": {
        "id": "UCwe0iFUQBiB"
      },
      "execution_count": null,
      "outputs": []
    },
    {
      "cell_type": "markdown",
      "source": [
        "## Continue\n",
        "\n",
        "La sentencia continue se asemeja conceptualmente a la sentencia break. Si se ejecuta una sentencia continue en el cuerpo del bucle, se omite el código que le sigue y comienza una nueva iteración. "
      ],
      "metadata": {
        "id": "Yq1EhCzHK0xX"
      }
    },
    {
      "cell_type": "code",
      "source": [
        "numero = 0\n",
        "\n",
        "for numero in range(10):\n",
        "    if numero == 5:\n",
        "        continue \n",
        "\n",
        "    print('El numero es ' + str(numero))\n",
        "\n",
        "print('Estamos fuera')"
      ],
      "metadata": {
        "id": "-qAuznMfLHaD"
      },
      "execution_count": null,
      "outputs": []
    },
    {
      "cell_type": "markdown",
      "source": [
        "# Conjuntos (Sets)\n",
        "\n",
        "La principal característica de este tipo de datos es que es una colección cuyos elementos no guardan ningún orden y que además son únicos.\n",
        "Los principales usos de esta clase sean conocer si un elemento pertenece o no a una colección y eliminar duplicados de un tipo secuencial (list, tuple o str)."
      ],
      "metadata": {
        "id": "hwuau2F3QkJe"
      }
    },
    {
      "cell_type": "code",
      "source": [
        "c = {1, 3, 2, 9, 3, 1}\n",
        "print(c)\n",
        "a = set('Hola Pythonista')\n",
        "print(a)\n",
        "unicos = set([3, 5, 6, 1, 5])\n",
        "print(unicos)"
      ],
      "metadata": {
        "id": "GHJplCBDTH71"
      },
      "execution_count": null,
      "outputs": []
    },
    {
      "cell_type": "markdown",
      "source": [
        "### Añadir elementos a un conjunto (set) en Python\n",
        "\n",
        "Para añadir un elemento a un conjunto se utiliza el método add(). También existe el método update(), que puede tomar como argumento una lista, tupla, string, conjunto o cualquier objeto de tipo iterable."
      ],
      "metadata": {
        "id": "MglL_dQpTsqc"
      }
    },
    {
      "cell_type": "code",
      "source": [
        "mi_conjunto = {1, 3, 2, 9, 3, 1}\n",
        "print(mi_conjunto)\n",
        "\n",
        "mi_conjunto.add(7)\n",
        "print(mi_conjunto)\n",
        "\n",
        "mi_conjunto.update([5, 3, 4, 6])\n",
        "print(mi_conjunto)"
      ],
      "metadata": {
        "id": "63nagd8eV2_H"
      },
      "execution_count": null,
      "outputs": []
    },
    {
      "cell_type": "markdown",
      "source": [
        "La clase set ofrece cuatro métodos para eliminar elementos de un conjunto. Son: discard(), remove(), pop() y clear()."
      ],
      "metadata": {
        "id": "YsQdk7NlW9nQ"
      }
    },
    {
      "cell_type": "code",
      "source": [
        "mi_conjunto = {1, 3, 2, 9, 3, 1, 6, 4, 5}\n",
        "print(mi_conjunto)\n",
        "\n",
        "# Elimina el elemento 1 con remove()\n",
        "mi_conjunto.remove(1)\n",
        "print(mi_conjunto)\n",
        "\n",
        "# Elimina el elemento 4 con discard()\n",
        "mi_conjunto.discard(4)\n",
        "print(mi_conjunto)\n",
        "\n",
        "# Trata de eliminar el elemento 7 (no existe) con remove()\n",
        "# Lanza la excepción KeyError\n",
        "# mi_conjunto.remove(7)\n",
        "\n",
        "# Trata de eliminar el elemento 7 (no existe) con discard()\n",
        "# No hace nada\n",
        "mi_conjunto.discard(7)\n",
        "print(mi_conjunto)\n",
        "\n",
        "# Obtiene y elimina un elemento aleatorio con pop()\n",
        "mi_conjunto.pop()\n",
        "print(mi_conjunto)\n",
        "\n",
        "\n",
        "# Elimina todos los elementos del conjunto\n",
        "mi_conjunto.clear()\n",
        "print(mi_conjunto)"
      ],
      "metadata": {
        "id": "kjYlMpnQYJRF"
      },
      "execution_count": null,
      "outputs": []
    },
    {
      "cell_type": "markdown",
      "source": [
        "## Diccionarios\n",
        "\n",
        "Los diccionarios en Python nos permiten almacenar una serie de mapeos entre dos conjuntos de elementos, llamados keys and values (Claves y Valores).\n",
        "\n",
        "* Todos los elementos en el diccionario se encuentran encerrados en un par de corchetes {}.\n",
        "* Cada elemento en un diccionario contiene una clave y un valor - es decir un par de clave-valor.\n",
        "* Cada par de clave-valor es denominado como elemento (item).\n",
        "* La ventaja de esto es que puedes acceder a todos los valores almacenados usando simplemente las claves.\n"
      ],
      "metadata": {
        "id": "1zyfMeolZDS2"
      }
    },
    {
      "cell_type": "code",
      "source": [
        "colores = {'amarillo': 'yellow', 'azul': 'blue', 'rojo': 'red'}\n",
        "print(type(colores))"
      ],
      "metadata": {
        "id": "6XSDn-piao0Y"
      },
      "execution_count": null,
      "outputs": []
    },
    {
      "cell_type": "markdown",
      "source": [
        "### Traer valor de Diccionarios"
      ],
      "metadata": {
        "id": "cnPoKZhhbdr2"
      }
    },
    {
      "cell_type": "code",
      "source": [
        "print(colores[\"amarillo\"])"
      ],
      "metadata": {
        "id": "RnugS3bjbwjm"
      },
      "execution_count": null,
      "outputs": []
    },
    {
      "cell_type": "markdown",
      "source": [
        "### Mutabilidad\n",
        "\n",
        "Los diccionarios al igual que las listas son mutables"
      ],
      "metadata": {
        "id": "U19edk7Eb89e"
      }
    },
    {
      "cell_type": "code",
      "source": [
        "colores['amarillo'] = 'white'\n",
        "print(colores['amarillo'])"
      ],
      "metadata": {
        "id": "7T77PXxfcIkW"
      },
      "execution_count": null,
      "outputs": []
    },
    {
      "cell_type": "markdown",
      "source": [
        "### Asignación"
      ],
      "metadata": {
        "id": "sxmkWPzlfk30"
      }
    },
    {
      "cell_type": "code",
      "source": [
        "edades = {\"Juan\": 26, \"Esteban\": 35, \"Maria\": 29}\n",
        "edades[\"Juan\"] += 5\n",
        "print(edades[\"Juan\"])"
      ],
      "metadata": {
        "id": "I8e4J1AJfmJM"
      },
      "execution_count": null,
      "outputs": []
    },
    {
      "cell_type": "markdown",
      "source": [
        "### Add\n",
        "\n",
        "No hay una función de add, pero para agregar una nueva clave-valor se puede realizar"
      ],
      "metadata": {
        "id": "dltYSn9vf8Q0"
      }
    },
    {
      "cell_type": "code",
      "source": [
        "numeros = {'uno': 1, 'dos': 2, 'tres': 3, 'cuatro': 4}\n",
        "print(numeros)\n",
        "numeros['cinco'] = 5 \n",
        "print(numeros)"
      ],
      "metadata": {
        "id": "vG5zA2vSgD61"
      },
      "execution_count": null,
      "outputs": []
    },
    {
      "cell_type": "markdown",
      "source": [
        "### Update\n",
        "\n",
        "Este método actualiza un diccionario agregando los pares clave-valores"
      ],
      "metadata": {
        "id": "q_Kj88m_gPUt"
      }
    },
    {
      "cell_type": "code",
      "source": [
        "numeros =  {'uno': 1, 'dos': 2, 'tres': 3, 'cuatro': 4}\n",
        "numeros.update({'cinco': 5, 'seis': 6}) \n",
        "print(numeros)"
      ],
      "metadata": {
        "id": "saRVfgjZgbV9"
      },
      "execution_count": null,
      "outputs": []
    },
    {
      "cell_type": "markdown",
      "source": [
        "### len"
      ],
      "metadata": {
        "id": "-FhgbZNtg4ee"
      }
    },
    {
      "cell_type": "code",
      "source": [
        "numeros =  {'uno': 1, 'dos': 2, 'tres': 3, 'cuatro': 4}\n",
        "len(numeros)"
      ],
      "metadata": {
        "id": "4FqoMMOSg5zu"
      },
      "execution_count": null,
      "outputs": []
    },
    {
      "cell_type": "markdown",
      "source": [
        "### Del\n",
        "\n",
        "Elimina el ítem del dict, sin modificar el resto del dict, si el elemento pasado como argumento a del() no está dentro del dict es simplemente ignorado."
      ],
      "metadata": {
        "id": "6TOGJLySg-2N"
      }
    },
    {
      "cell_type": "code",
      "source": [
        "numeros =  {'uno': 1, 'dos': 2, 'tres': 3, 'cuatro': 4}\n",
        "del numeros['dos']\n",
        "print(numeros)"
      ],
      "metadata": {
        "id": "AXSsfMc1hKsl"
      },
      "execution_count": null,
      "outputs": []
    },
    {
      "cell_type": "markdown",
      "source": [
        "### In\n",
        "\n",
        "Determinar si un elemento pertenece a un dict."
      ],
      "metadata": {
        "id": "eKbRbr9uhR5O"
      }
    },
    {
      "cell_type": "code",
      "source": [
        "numeros =  {'uno': 1, 'dos': 2, 'tres': 3, 'cuatro': 4}\n",
        "print('dos'in numeros)"
      ],
      "metadata": {
        "id": "47qwO5uKhbxg"
      },
      "execution_count": null,
      "outputs": []
    },
    {
      "cell_type": "markdown",
      "source": [
        "### Clear\n",
        "\n",
        "Podemos borrar todos los valores de un dict"
      ],
      "metadata": {
        "id": "NiuFJjzEhjO_"
      }
    },
    {
      "cell_type": "code",
      "source": [
        "numeros =  {'uno': 1, 'dos': 2, 'tres': 3, 'cuatro': 4} \n",
        "numeros.clear()\n",
        "print(numeros)"
      ],
      "metadata": {
        "id": "bxlx4uHChrHw"
      },
      "execution_count": null,
      "outputs": []
    },
    {
      "cell_type": "markdown",
      "source": [
        "# Manejo de archivos y datos\n",
        "\n",
        "https://www.w3schools.com/python/ref_file_read.asp\n",
        "https://www.w3schools.com/python/python_file_write.asp"
      ],
      "metadata": {
        "id": "z4na57q6i4dF"
      }
    },
    {
      "cell_type": "markdown",
      "source": [
        "# ¿Qué son las funciones en Python?\n",
        "\n",
        "Las funciones en Python constituyen unidades lógicas de un programa y tienen un doble objetivo:\n",
        "\n",
        "* Dividir y organizar el código en partes más sencillas.\n",
        "* Encapsular el código que se repite a lo largo de un programa para ser reutilizado.\n",
        "\n",
        "### Cómo definir una función en Python\n",
        "\n",
        "![image.png](data:image/png;base64,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)"
      ],
      "metadata": {
        "id": "m3qORYUOjPwB"
      }
    },
    {
      "cell_type": "code",
      "source": [
        "def multiplica_por_5(numero):\n",
        "    print(f'{numero} * 5 = {numero * 5}')\n",
        "\n",
        "print('Comienzo del programa')    \n",
        "multiplica_por_5(7)\n",
        "print('Siguiente')\n",
        "multiplica_por_5(113)\n",
        "print('Fin')"
      ],
      "metadata": {
        "id": "1Jh2367Wl4ux"
      },
      "execution_count": null,
      "outputs": []
    },
    {
      "cell_type": "markdown",
      "source": [
        "### return\n",
        "\n",
        "Hace que termine la ejecución de la función cuando aparece y el programa continúa por su flujo normal."
      ],
      "metadata": {
        "id": "u1cGM-n_nFSP"
      }
    },
    {
      "cell_type": "code",
      "source": [
        "def multiplica_por_5(numero):\n",
        "    return(f'{numero} * 5 = {numero * 5}')\n",
        "\n",
        "print('Comienzo del programa')    \n",
        "print(multiplica_por_5(7))\n",
        "print('Siguiente')\n",
        "print(multiplica_por_5(113))\n",
        "print('Fin')"
      ],
      "metadata": {
        "id": "xeLT305YneCX"
      },
      "execution_count": null,
      "outputs": []
    },
    {
      "cell_type": "markdown",
      "source": [
        "### Varios return en una misma función"
      ],
      "metadata": {
        "id": "8oeZMplxo2Oo"
      }
    },
    {
      "cell_type": "code",
      "source": [
        "def es_par(numero):\n",
        "     if numero % 2 == 0:\n",
        "         return True\n",
        "     else:\n",
        "         return False\n",
        "     \n",
        "print(es_par(2))\n",
        "print(es_par(5))"
      ],
      "metadata": {
        "id": "SaHeOpvvo41R"
      },
      "execution_count": null,
      "outputs": []
    },
    {
      "cell_type": "markdown",
      "source": [
        "# Argumentos y parámetros\n",
        "\n",
        "Durante la definición de la función, las variables se denominan parámetros. Y durante la llamada se le denominan argumentos."
      ],
      "metadata": {
        "id": "4H8tui_xpQ5p"
      }
    },
    {
      "cell_type": "code",
      "source": [
        "def suma(numero1, numero2):\n",
        "    return numero1 + numero2\n",
        "\n",
        "resultado = suma(7, 5)\n",
        "print(resultado)"
      ],
      "metadata": {
        "id": "RPRHA9cdskBQ"
      },
      "execution_count": null,
      "outputs": []
    },
    {
      "cell_type": "markdown",
      "source": [
        "### Argumentos por posición \n",
        "\n",
        "Si modificamos el orden de los argumentos nos dará otro resultado"
      ],
      "metadata": {
        "id": "T_n0D4E0s4Gm"
      }
    },
    {
      "cell_type": "code",
      "source": [
        "def resta(a, b):\n",
        "    return a - b\n",
        "resultado = resta(15, 12)\n",
        "print(resultado)"
      ],
      "metadata": {
        "id": "0TxFxnTftE2H"
      },
      "execution_count": null,
      "outputs": []
    },
    {
      "cell_type": "code",
      "source": [
        "resultado = resta(12, 15)\n",
        "print(resultado)"
      ],
      "metadata": {
        "id": "oscIZZ4ktZJQ"
      },
      "execution_count": null,
      "outputs": []
    },
    {
      "cell_type": "markdown",
      "source": [
        "### Argumento por nombre\n",
        "\n",
        "Al utilizar argumentos por nombre, no importa el orden."
      ],
      "metadata": {
        "id": "qvkQ0_uVuAh4"
      }
    },
    {
      "cell_type": "code",
      "source": [
        "def resta(a, b, c):\n",
        "    return a - b - c\n",
        "\n",
        "resultado = resta(a=15, b=12, c=2)\n",
        "print(resultado)"
      ],
      "metadata": {
        "id": "fCtVkEyuuYnv"
      },
      "execution_count": null,
      "outputs": []
    },
    {
      "cell_type": "code",
      "source": [
        "resultado = resta(c=2, a=15, b=12)\n",
        "print(resultado)"
      ],
      "metadata": {
        "id": "shaNnA8Lujio"
      },
      "execution_count": null,
      "outputs": []
    },
    {
      "cell_type": "markdown",
      "source": [
        "### Llamada sin argumentos\n"
      ],
      "metadata": {
        "id": "fyZv6xUbviVT"
      }
    },
    {
      "cell_type": "code",
      "source": [
        "def resta(a, b):\n",
        "    return a - b\n",
        "resultado = resta()\n",
        "print(resultado)"
      ],
      "metadata": {
        "id": "Bi5vHf9GvvHK"
      },
      "execution_count": null,
      "outputs": []
    },
    {
      "cell_type": "code",
      "source": [
        "def resta(a=10, b=5):\n",
        "    return a - b\n",
        "resultado = resta()\n",
        "print(resultado)"
      ],
      "metadata": {
        "id": "ZHmTMScpvv1T"
      },
      "execution_count": null,
      "outputs": []
    },
    {
      "cell_type": "markdown",
      "source": [
        "### *args\n",
        "\n",
        "Con el uso de *args en la definición de una función podemos pasar tantos argumentos como queramos."
      ],
      "metadata": {
        "id": "IEVY_gEUwOKD"
      }
    },
    {
      "cell_type": "code",
      "source": [
        "def sum(*args):\n",
        "    value = 0\n",
        "    for n in args:\n",
        "        value += n\n",
        "    return value\n",
        "\n",
        "print(sum(2, 3, 4, 6, 9, 21))"
      ],
      "metadata": {
        "id": "IWAF4b7wwc9k"
      },
      "execution_count": null,
      "outputs": []
    },
    {
      "cell_type": "markdown",
      "source": [
        "### **kwargs\n",
        "\n",
        "El parámetro especial **kwargs en una función se usa para pasar, de forma opcional, un número variable de argumentos con nombre.\n",
        "\n",
        "Las principales diferencias con respecto *args son:\n",
        "\n",
        "* Lo que realmente indica que el parámetro es de este tipo es el símbolo ‘**’, el nombre kwargs se usa por convención.\n",
        "* El parámetro recibe los argumentos como un diccionario.\n",
        "* Al tratarse de un diccionario, el orden de los parámetros no importa. Los parámetros se asocian en función de las claves del diccionario."
      ],
      "metadata": {
        "id": "RVYMjVJ-wxFk"
      }
    },
    {
      "cell_type": "code",
      "source": [
        "def suma(**kwargs):\n",
        "  s = 0\n",
        "  for key, value in kwargs.items():\n",
        "    print (key, \"=\", value)\n",
        "    s+value\n",
        "  return s\n",
        "suma(a=3, b=10, c=3)"
      ],
      "metadata": {
        "id": "O6zQQSIpxO7t"
      },
      "execution_count": null,
      "outputs": []
    }
  ]
}